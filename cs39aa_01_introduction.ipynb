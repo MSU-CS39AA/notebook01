{
 "cells": [
  {
   "cell_type": "markdown",
   "id": "e7ef66c6",
   "metadata": {},
   "source": [
    "# CS39AA - Introduction\n",
    "\n",
    "## I. NLP Deep Learning Examples: Text Generation\n",
    "\n",
    "We won't get into the details of how this deep learning model works until later in the semester, but for now let's look at an example of a task that was not possible just a few years ago. GPT-2 was one of the first models that made this possible. Here is an example of using [GPT-2](https://en.wikipedia.org/wiki/GPT-2) (via the [huggingface](https://huggingface.co) transformers module/library).\n",
    "\n",
    "### 1. Import and download necessary module, model, and class\n",
    "First, we import a pipeline object (a handy abstraction that takes care of much of the underlying complexities for common tasks, such as NER, , sentiment analysis, text generation, etc.)\n",
    "\n",
    "__Note that this will download the underlying language model used by the Hugging Face pipeline (GPT-2 by default), which will download ~500MB! So, be sure you have a good internet connection before running the following cell. If you are using an online platform (e.g. Google Colab), then you probably don't want to download this since it will take up a lot of your precious storage space! As an alternative you can...__\n",
    "\n",
    "instead use [Deep AI's text generator demo](https://deepai.org/machine-learning-model/text-generator) online. Just be sure to document what you do below in subsection 4."
   ]
  },
  {
   "cell_type": "code",
   "execution_count": null,
   "id": "ac18d8d6",
   "metadata": {},
   "outputs": [],
   "source": [
    "PATH = '/home/steve/data/models/'\n",
    "TEXTGEN = 'huggingface_textgen.pipeline'\n",
    "\n",
    "# download pipeline and model from hugginface\n",
    "#from transformers import pipeline\n",
    "#text_gen = pipeline(\"text-generation\")\n",
    "#text_gen.save_pretrained(PATH + TEXTGEN)\n",
    "# OR load a pre-downloaded and saved version\n",
    "from transformers import AutoTokenizer, AutoModelWithLMHead, pipeline\n",
    "tok = AutoTokenizer.from_pretrained(PATH + TEXTGEN, local_files_only=True)\n",
    "mod = AutoModelWithLMHead.from_pretrained(PATH + TEXTGEN, local_files_only=True)\n",
    "text_gen = pipeline(\"text-generation\", model=mod, tokenizer=tok)"
   ]
  },
  {
   "cell_type": "markdown",
   "id": "9ad83c15",
   "metadata": {},
   "source": [
    "### 2. Provide a starting text sequence\n",
    "\n",
    "We have already specified the task that we want to use our pipeline for above, namely text generation.\n",
    "\n",
    "Next, we will give the text generation pipeline something to start with. One of the potential use case for text generation is to help writers produce content more efficiently. This already presents us with an dilemna about how this technology is used. Is it ethical for an author/journalist/etc. to take credit for work created by AI? Should such content be trusted? There are many other questions to consider, which you should definitely think about! \n",
    "\n",
    "For the time being there is no model that is capable of generating high-quality, clear and cohesive text sequences of non-trivial length. So let's use text generation to help us overcome a hypothetical mild case of writer's block. One of my favorite examples of writer's block is from a Billy Crystal [classic](https://youtu.be/KfVunEjeQPQ) where he is stuck on the first line of his novel with, \"_The night was..._\""
   ]
  },
  {
   "cell_type": "code",
   "execution_count": null,
   "id": "86af30a2",
   "metadata": {},
   "outputs": [],
   "source": [
    "prefix_text = \"The night was\""
   ]
  },
  {
   "cell_type": "markdown",
   "id": "d0b6578e",
   "metadata": {},
   "source": [
    "### 3. Generate some text\n",
    "\n",
    "Finally, let's generate up to 50 additional tokens/words."
   ]
  },
  {
   "cell_type": "code",
   "execution_count": null,
   "id": "9ceba77e",
   "metadata": {},
   "outputs": [],
   "source": [
    "# generate a sequence\n",
    "#result01 = text_gen(prefix_text, max_length=50, do_sample=False)\n",
    "result01 = text_gen(prefix_text, max_length=50, do_sample=False)\n",
    "\n",
    "# see results\n",
    "print(result01[0]['generated_text'])"
   ]
  },
  {
   "cell_type": "markdown",
   "id": "333aa5bd",
   "metadata": {},
   "source": [
    "That wasn't bad, but it wasn't great either. You can see how these models can begin to falter.\n",
    "\n",
    "Let's try once more, this time setting `do_sample=True` to generate a different text sequence."
   ]
  },
  {
   "cell_type": "code",
   "execution_count": null,
   "id": "f86f0d9d",
   "metadata": {},
   "outputs": [],
   "source": [
    "result02 = text_gen(prefix_text, max_length=50, do_sample=True)\n",
    "\n",
    "print(result02[0]['generated_text'])"
   ]
  },
  {
   "cell_type": "markdown",
   "id": "9cbe58ca",
   "metadata": {},
   "source": [
    "### 4. Run your own example\n",
    "\n",
    "Now it's your turn to provide a starting sequence and generate some results. \n",
    "\n",
    "Again, if you would prefer not to download and run this code, then you can instead use [Deep AI's text generator demo online](https://deepai.org/machine-learning-model/text-generator).\n",
    "\n",
    "You will share the results of this in your [Self-Introduction post on Canvas](https://msudenver.instructure.com/courses/47963/discussion_topics/496954).\n",
    "\n",
    "If you want to demonstrate some of the biases that exist in language models please do so, but be sure to keep the discourse respectful and constructive."
   ]
  },
  {
   "cell_type": "code",
   "execution_count": null,
   "id": "c2ace7f2",
   "metadata": {},
   "outputs": [],
   "source": [
    "# insert a short sequence of text of your own below\n",
    "your_prefix = \"\" \n",
    "\n",
    "# generate a set of tokens/words to complete your sequence\n",
    "your_result = text_gen(your_prefix, max_length=50, do_sample=False)\n",
    "\n",
    "# print your results\n",
    "print(your_result[0]['generated_text'])"
   ]
  },
  {
   "cell_type": "markdown",
   "id": "c5996f0f",
   "metadata": {},
   "source": [
    "We will dig more into these types of models as the semester progresses, but if you're curious and want to unpeel one more layer to see what's happening behind the scenes, then [this demostration by the Allen Institute](https://demo.allennlp.org/next-token-lm) is worth a look. In that demo they show the set of tokens/sequences that are suggested along with their probabilities. "
   ]
  },
  {
   "cell_type": "markdown",
   "id": "a6433758",
   "metadata": {},
   "source": [
    "## II. NLP Deep Learning Examples: Word Embeddings/Vectors\n",
    "\n",
    "Again, we will dig into the concept of word vectors much more later in the semester - both in how they are created as well as how we can use them to assist with modeling tasks. For now let's try and understand what they are by looking at how we can use them. \n",
    "\n",
    "### 1. Import and download necessary module and data\n",
    "\n",
    "We'll use the word vectors that Python module/library, \"[gensim](https://radimrehurek.com/gensim/intro.html)\" to download and use the [Word2vec](https://en.wikipedia.org/wiki/Word2vec) word vectors. \n",
    "\n",
    "Run only either the block with the `api.load` statement (to download w2v), or the `KeyedVectors.load` statement (to load the saved w2v)."
   ]
  },
  {
   "cell_type": "code",
   "execution_count": null,
   "id": "15aeeb22",
   "metadata": {},
   "outputs": [],
   "source": [
    "PATH = '/home/steve/data/models/'\n",
    "W2V = 'w2v-google-news-300.wordvectors'\n",
    "\n",
    "#import gensim.downloader as api\n",
    "#wv = api.load('word2vec-google-news-300')\n",
    "#wv.save(PATH + W2V)\n",
    "# OR\n",
    "from gensim.models import KeyedVectors\n",
    "wv2 = KeyedVectors.load(PATH + W2V)"
   ]
  },
  {
   "cell_type": "markdown",
   "id": "c6cc7a70",
   "metadata": {},
   "source": [
    "### 2. Examine a Word Vector\n",
    "\n",
    "Now let's look at a vector for the word, \"computer\". \n",
    "\n",
    "What does the vector look like?, How large is it?, What do you think are similar words? \n",
    "\n",
    "And, how do we think about similarity between word vectors? That is, how do we measure it?"
   ]
  },
  {
   "cell_type": "code",
   "execution_count": null,
   "id": "30a53b70",
   "metadata": {},
   "outputs": [],
   "source": [
    "# retrieve the word vector for 'computer'\n",
    "wv['computer'].round(3)"
   ]
  },
  {
   "cell_type": "code",
   "execution_count": null,
   "id": "f11027ea",
   "metadata": {},
   "outputs": [],
   "source": [
    "# retrieve the 10 word (vectors) most similar to 'computer'\n",
    "wv.most_similar('computer', topn=10)"
   ]
  },
  {
   "cell_type": "markdown",
   "id": "95358f0a",
   "metadata": {},
   "source": [
    "### 3. Math with Words\n",
    "\n",
    "Just as we can with any type of number/vector, word vectors can be used in mathematical operations. Admittedly, it can be abstract to think about words as mathematical entities, so take a second to think about what this might look like, and what it might mean. \n",
    "\n",
    "The classic example always given here is to begin with the word (vector) \"_king_\", subtract the word (vector) \"_man_\", and then add word (vector) \"_woman_\". \n",
    "\n",
    "If we look at the resulting vector, which word vector will be most similar to it? "
   ]
  },
  {
   "cell_type": "code",
   "execution_count": null,
   "id": "5a7fdad5",
   "metadata": {},
   "outputs": [],
   "source": [
    "wv.most_similar(positive=['king', 'woman'], negative=['man'], topn=5)"
   ]
  },
  {
   "cell_type": "markdown",
   "id": "f7c9d6f8",
   "metadata": {},
   "source": [
    "The word vectors we have been looking at are 300 elements long. There are other versions of word vectors that have been created. Below is an image of what the vectors in the _king - man + woman_ example look like using word vectors that are 50 elements in length (blue values are close to -1 while red values are close to +1). \n",
    "\n",
    "<img src=\"images/w2v_vec_arithmetic.png\" width=\"697\" height=\"349\">"
   ]
  },
  {
   "cell_type": "markdown",
   "id": "b0fd6588",
   "metadata": {},
   "source": [
    "### 4. Run your own example\n",
    "\n",
    "Now it's your turn to try out word vectors. __If you are running this notebook locally on your own system, or if you are have the store on your online platform (e.g. Colab), then you can do so in the cells above. If not, then comment out the cells above and use one of the many online demos available__ (e.g. [Semantic Calculator demo](http://vectors.nlpl.eu/explore/embeddings/en/calculator/)). "
   ]
  },
  {
   "cell_type": "markdown",
   "id": "392fca6d",
   "metadata": {},
   "source": [
    "## III. Python (and other Tools)\n",
    "\n",
    "Naturally, we will be using Python for this class. Python was originally created (~30 yrs ago) with the intention of being easy to learn, and thus allowing for code to be written quickly and easily read by others. Today it is one of the most widely used programming languages and the most-used when it comes to Data Science and Machine Learning. If you have never used Python before, don't worry, you will be able to pick it up as we go. \n",
    "\n",
    "In addition to Python there are a slew of other tools we'll be using that extend the functionality of Python. \n",
    "\n",
    "Here are the main ones:\n",
    "\n",
    "* pandas\n",
    "* numpy\n",
    "* scikit learn\n",
    "* jupyter\n",
    "* pytorch\n",
    "\n",
    "We will be using online servers such as [Google Colab](https://colab.research.google.com), [Kaggle](https://www.kaggle.com), [Gradient](https://gradient.paperspace.com), etc. when it is more convenient to do so (e.g. for more computational intensive tasks), so it's not necessary to install all of the above right this moment. However, it is recommended that you install Python on your local machine relatively soon, and that you do so using [Anaconda](https://www.anaconda.com/products/individual) as it comes with the first four items listed above. Once that is installed then [PyTorch](https://pytorch.org) is quick to install as well.  "
   ]
  },
  {
   "cell_type": "markdown",
   "id": "ccf70933",
   "metadata": {},
   "source": [
    "### 1. Install Anaconda\n",
    "\n",
    "Go to [https://www.anaconda.com/products/individual]() to download and install Anaconda. Most likely the default configuration will be fine. \n",
    "\n",
    "You can confirm the installation and see the configuration by opening a terminal and running: `$ conda info`. \n",
    "\n",
    "There you should see version 3.x for Python (this can also be confirmed by running `$ python --version`)."
   ]
  },
  {
   "cell_type": "markdown",
   "id": "84a6545f",
   "metadata": {},
   "source": [
    "### 2. Hello World w/ Python\n",
    "\n",
    "Although it is not very interesting, let's begin with Python by running the usual hello world program. \n",
    "\n",
    "Recall that we can run Python either in interactive mode or with a Python program file (w/ extension .py). Since Python is an interpreted language there is no compiler. \n",
    "\n",
    "In interactive mode, we simply start the Python interpreter with `$ python`, and can then begin typing Python code. For the hello world program all we need to type is `print('Hello World')`. \n",
    "\n",
    "For a standalone Pythom program, we can simply open up a new document with our favorite text editor, input the single print statement above, then save it as _helloworld.py_. We can then run this at the command line with `$ python helloworld.py`. \n",
    "\n",
    "Although we can run Python programs without explicitly defining a _main_ function/procedure, it is typically the case that we will want to define one. To define a function we'll use the `def` keyword. Let's call this program `helloworld2.py`. The contents of this program/file would be: \n",
    "\n",
    "\n",
    "    def printHelloWorld():\n",
    "        print(\"Hello World\")\n",
    "\n",
    "    def main():\n",
    "        printHelloWorld()\n",
    "\n",
    "    if __name__ == `__main__`:\n",
    "        main()\n",
    "\n",
    "\n",
    "Notice that we define a function to print our desired output, `printHelloWorld()`. Suppose we were creating a new program but we wanted to use this same function. We can also import our \n",
    "`helloworld2.py` program into a new program, say, `helloworld_app.py` and load and use function from there. \n",
    "\n",
    "Here is what `helloworld_app.py` might look like:\n",
    "\n",
    "    import helloworld2\n",
    "\n",
    "    def main():\n",
    "        helloworld2.printHelloWorld()\n",
    "\n",
    "    if __name__ == `__main__`:\n",
    "        main()\n",
    "\n",
    "We will pick up more of this as we go, but if you are curious about how `main` works in Python, or about defining/importing modules, check out the following:\n",
    "\n",
    "* [Defining main functions in Python (realpython.com)](https://realpython.com/python-main-function/)\n",
    "* [Python Modules (on python.org)](https://docs.python.org/3/tutorial/modules.html)"
   ]
  },
  {
   "cell_type": "markdown",
   "id": "9a039d44",
   "metadata": {},
   "source": [
    "### 3. Python Data Types\n",
    "\n",
    "Python is a dynamically-typed language, which means that we don't need to explicitly state the data type when declaring an instance of a variable. \n",
    "\n",
    "For example, `x = 5`, will create an instance of a variable named, `x`, which will have the value of `5`. What data type do you suppose this variable will have? \n",
    "\n",
    "Now suppose that `y = 4.2` is input. What data type will this variable have?\n",
    "\n",
    "To check the data type of any variable, e.g. `x`, use `type(x)`. The following jupyter notebook cell provides an example. "
   ]
  },
  {
   "cell_type": "code",
   "execution_count": null,
   "id": "99e0baf9",
   "metadata": {},
   "outputs": [],
   "source": [
    "x = 5\n",
    "print(\"The data type of x is:\", type(x))"
   ]
  },
  {
   "cell_type": "markdown",
   "id": "5872f35e",
   "metadata": {},
   "source": [
    "Running the following line will confirm that x is in fact the expected data type, an `int`. "
   ]
  },
  {
   "cell_type": "code",
   "execution_count": null,
   "id": "b381780c",
   "metadata": {},
   "outputs": [],
   "source": [
    "type(x) == type(int())"
   ]
  },
  {
   "cell_type": "markdown",
   "id": "0eec695b",
   "metadata": {},
   "source": [
    "Let's now try to create a float and string in the following cell. \n",
    "\n",
    "Complete the following cell by assiging a floating point value to $y$ then use `type()` to confirm $y$'s data type."
   ]
  },
  {
   "cell_type": "code",
   "execution_count": null,
   "id": "89b06738",
   "metadata": {},
   "outputs": [],
   "source": [
    "y = # add something here so that y is a float\n",
    "\n",
    "# confirm that this is a float with the following print statement\n",
    "print(\"The data type of y is: ..."
   ]
  },
  {
   "cell_type": "code",
   "execution_count": null,
   "id": "5d8d4ea0",
   "metadata": {},
   "outputs": [],
   "source": [
    "# Confirm that y is a float\n",
    "if type(y) == type(float()):\n",
    "    print(\"y is a float data type\")\n",
    "else:\n",
    "    print(\"y is NOT a float data type\")"
   ]
  },
  {
   "cell_type": "markdown",
   "id": "8a95f23a",
   "metadata": {},
   "source": [
    "Do the same but now complete the following cell by assigning a str(ing) value to $z$ then use `type()` to confirm its data type."
   ]
  },
  {
   "cell_type": "code",
   "execution_count": null,
   "id": "58a520a1",
   "metadata": {},
   "outputs": [],
   "source": [
    "z = # add something here so that z is a string\n",
    "\n",
    "# confirm that this is a float with the following print statement\n",
    "print(\"The data type of z is: ..."
   ]
  },
  {
   "cell_type": "markdown",
   "id": "6af472bd",
   "metadata": {},
   "source": [
    "For more practice on variables and types do this short tutorial at learnpython.org:\n",
    "* [https://www.learnpython.org/en/Variables_and_Types]()"
   ]
  },
  {
   "cell_type": "markdown",
   "id": "e38ad515",
   "metadata": {},
   "source": [
    "### 4. Python Collection/Container Data Types\n",
    "\n",
    "In nearly any computer program we will often need to employ data types that are able to hold a set of values, i.e. _collection_ data types. \n",
    "\n",
    "The most common of these is referred to as an __array__ in most languages, although in Python it is simply called a __list__. \n",
    "\n",
    "An example of a Python list is:"
   ]
  },
  {
   "cell_type": "code",
   "execution_count": null,
   "id": "07028fdb",
   "metadata": {},
   "outputs": [],
   "source": [
    "list1 = [4, 8, 3, 17, 6]"
   ]
  },
  {
   "cell_type": "markdown",
   "id": "7868828f",
   "metadata": {},
   "source": [
    "Notice that the data type is a list, but that the data types for any one given element is an integer:"
   ]
  },
  {
   "cell_type": "code",
   "execution_count": null,
   "id": "c405d275",
   "metadata": {},
   "outputs": [],
   "source": [
    "print(\"The data type of list1 is:\", type(list1))\n",
    "\n",
    "print(\"The data type for the first element in list1 is:\", type(list1[0]))"
   ]
  },
  {
   "cell_type": "markdown",
   "id": "0ee3505a",
   "metadata": {},
   "source": [
    "Not only is Python dynamically typed, but it very flexible when it comes to collection data types. \n",
    "\n",
    "A Python list can hold any type of variable, and even different types at the same time."
   ]
  },
  {
   "cell_type": "code",
   "execution_count": null,
   "id": "f71a119a",
   "metadata": {},
   "outputs": [],
   "source": [
    "list2 = [4, 3.72, 'hello']\n",
    "\n",
    "print(\"The data type for the first element in list2 is:\", type(list2[0]))\n",
    "\n",
    "print(\"The data type for the second element in list2 is:\", type(list2[1]))\n",
    "\n",
    "print(\"The data type for the third element in list2 is:\", type(list2[2]))"
   ]
  },
  {
   "cell_type": "markdown",
   "id": "9a25c61f",
   "metadata": {},
   "source": [
    "There are several other collection data types in Python, each with their own unique advantages/disadvantages. They are:\n",
    "\n",
    "* list\n",
    "* tuple \n",
    "* dictionary\n",
    "* str(ing)\n",
    "* set\n",
    "\n",
    "It may come as a surprise that a string object is also a collection data type but you can confirm this by creating a string then using square brackets to access an individual character. Try doing so in the cell below."
   ]
  },
  {
   "cell_type": "code",
   "execution_count": null,
   "id": "e2ba5e24",
   "metadata": {},
   "outputs": [],
   "source": [
    "my_str = 'Hello World'\n",
    "\n",
    "print(\"The second character in my_str is:\", ..."
   ]
  },
  {
   "cell_type": "markdown",
   "id": "a1cbddff",
   "metadata": {},
   "source": [
    "For more practice with lists, strings, or dictionaries, check out any of the following brief tutorials at learnpython.org.\n",
    "* [https://www.learnpython.org/en/Lists]()\n",
    "* [https://www.learnpython.org/en/Basic_String_Operations]()\n",
    "* [https://www.learnpython.org/en/Dictionaries]()"
   ]
  },
  {
   "cell_type": "markdown",
   "id": "fc5fde25",
   "metadata": {},
   "source": [
    "### 5. Python is Object Oriented\n",
    "\n",
    "Python is based on an object-oriented programming paradigm. That is, every variable that you declare in Python is an object (i.e. an instance of a class). Even the primitive data types have their own methods. Here is an example of a str(ing) object's `islower()` method. "
   ]
  },
  {
   "cell_type": "code",
   "execution_count": null,
   "id": "fc1ff63f",
   "metadata": {},
   "outputs": [],
   "source": [
    "my_str.islower()"
   ]
  },
  {
   "cell_type": "markdown",
   "id": "02eb3494",
   "metadata": {},
   "source": [
    "That returns false since the entire string is not lower case. \n",
    "\n",
    "We can convert it to all lower case using another str(ing) method though, `lower()`. "
   ]
  },
  {
   "cell_type": "code",
   "execution_count": null,
   "id": "842e3ce5",
   "metadata": {},
   "outputs": [],
   "source": [
    "my_str.lower()"
   ]
  },
  {
   "cell_type": "markdown",
   "id": "db1d82b3",
   "metadata": {},
   "source": [
    "### 6. Defining Classes"
   ]
  },
  {
   "cell_type": "markdown",
   "id": "72684814",
   "metadata": {},
   "source": [
    "Although Python is object oriented itself, it is possible to follow other programming paradigms (e.g. functional programming). For this course it will be extremely helpful if we understand how Python classes work, and how to create our own. \n",
    "\n",
    "Let's define a basic class now. Take a look at the following class and try to idenfify some of elements of a class such as:\n",
    "* constructor\n",
    "* attribute/field\n",
    "* method\n",
    "* accessor/getter method\n",
    "* mutator/setter method"
   ]
  },
  {
   "cell_type": "code",
   "execution_count": null,
   "id": "ec92f2a3",
   "metadata": {},
   "outputs": [],
   "source": [
    "class Automobile:\n",
    "\n",
    "    def __init__(self):\n",
    "        self.color = None\n",
    "        self.transmission = 'automatic'\n",
    "\n",
    "    def setColor(self):\n",
    "        return self.color\n",
    "\n",
    "    def getColor(self, new_color):\n",
    "        self.color = new_color\n",
    "\n",
    "    def getTransmission(self):\n",
    "        return self.transmission\n"
   ]
  },
  {
   "cell_type": "markdown",
   "id": "edb8de15",
   "metadata": {},
   "source": [
    "Now, let's create an instance of an automobile. "
   ]
  },
  {
   "cell_type": "code",
   "execution_count": null,
   "id": "9b545d17",
   "metadata": {},
   "outputs": [],
   "source": [
    "my_auto = Automobile()"
   ]
  },
  {
   "cell_type": "markdown",
   "id": "f65d7bf2",
   "metadata": {},
   "source": [
    "When we created `my_auto`, what happened exactly? Which, if any, of the methods were called?\n",
    "\n",
    "Now let's print out the transmission of `my_auto`."
   ]
  },
  {
   "cell_type": "code",
   "execution_count": null,
   "id": "ea2fda90",
   "metadata": {},
   "outputs": [],
   "source": [
    "print(f\"my_auto has an {my_auto.getTransmission()} transmission\")"
   ]
  },
  {
   "cell_type": "markdown",
   "id": "3e589661",
   "metadata": {},
   "source": [
    "Next let's try adding a method, `setTransmission(new_transmission)`, to the class definition (above), and then use it to change to a _manual_ transmission. Then run the cell above again to print the transmission type. "
   ]
  },
  {
   "cell_type": "markdown",
   "id": "bab0e886",
   "metadata": {},
   "source": [
    "You may also be wondering about the double underscores surrounding the constructor. There are many methods/functions that already exist in Python but that can be overridden to allow us to customize them as needed. These double-underscore methods are called _dunder_, or _magic_ methods. \n",
    "\n",
    "One such example is the `__str__` dunder method. Every object in Python has a default way of presenting itself when it it printed. Here is what an instance of our current Automobile class looks like when we try to print it:"
   ]
  },
  {
   "cell_type": "code",
   "execution_count": null,
   "id": "6df37162",
   "metadata": {},
   "outputs": [],
   "source": [
    "print(my_auto)"
   ]
  },
  {
   "cell_type": "markdown",
   "id": "f8cc5e14",
   "metadata": {},
   "source": [
    "Depending on our class and how we will use it, that may not be a very helpful way to print an instance. \n",
    "\n",
    "Let's try overriding the `__str__` method so that the string representation of an Automobile object is more informative. Then create another instance of Automobile and try printing it again. "
   ]
  },
  {
   "cell_type": "code",
   "execution_count": null,
   "id": "e56c9b8f",
   "metadata": {},
   "outputs": [],
   "source": [
    "class Automobile:\n",
    "\n",
    "    def __init__(self):\n",
    "        self.color = None\n",
    "        self.transmission = 'automatic'\n",
    "\n",
    "    def getColor(self):\n",
    "        return self.color\n",
    "\n",
    "    def setColor(self, new_color):\n",
    "        self.color = new_color\n",
    "\n",
    "    def getTransmission(self):\n",
    "        return self.transmission\n",
    "\n",
    "    def __str__(self):\n",
    "        return f\"Autombile instance has: \\n  color = {self.color} \\n  transmission = {self.transmission}\"\n",
    "\n",
    "\n",
    "my_auto2 = Automobile()\n",
    "my_auto2.setColor(\"blue\")\n",
    "print(my_auto2)"
   ]
  },
  {
   "cell_type": "markdown",
   "id": "9af6534c",
   "metadata": {},
   "source": [
    "We will be using and defining many more classes, and also several other dunder methods such as `__eq__` and `__add__` to allow us to define how we want to compare or add to instances of the same class (respectively), and `__getitem__` and `__setitem__` to index into our own collection/container objects. "
   ]
  },
  {
   "cell_type": "markdown",
   "id": "2ecf9f3c",
   "metadata": {},
   "source": [
    "### 7. Other Tools\n",
    "\n",
    "We will get to some of the other tools in our next notebook but before we complete this one we should mention the tool we have already been using this entire time, which is a _Jupyter Notebook_. \n",
    "\n",
    "Jupyter Notebooks can be thought of as an interactive or research IDE and are typically what Data Scientists and Machine Learning Engineers rely on to develop models and algorithms (but not to productize their models/pipelines).\n",
    "\n",
    "A Jupyter notebook is often called a _Python notebook_, or simply a _notebook_, and will have an _.ipynb_  extension. Jupyter notebooks are easy to run but it's helpful to remember that they require both a client and server process to be running. Generally a notebook is run through a web browser (the __client__) and requires that a Python process to be running in the background or remotely (the __server__). We'll see and use notebooks in a variety of ways so do not worry just yet about being familiar with all of the various ways to create/run a notebook. Just know that if you do encounter any issues, it's likely a simple issue with the behind-the-scenes server process. \n",
    "\n",
    "We will be getting used to using Jupyter Notebooks during the next few classes so there will be plenty of time to ask me and/or your neighbor questions.\n",
    "\n",
    "For now, the most helpful shortcuts to know are:\n",
    "* shift + enter: run the currently selected cell\n",
    "* enter: enter/begin edit mode in the currently selected cell\n",
    "* escape: stop/exit edit mode (to make navigating between cells easier)\n",
    "* up/down arrows: navigate to the cell above/below when not in edit mode\n",
    "\n",
    "For a reference on Jupyter Notebooks see this excellent documentation at realpython.com:\n",
    "\n",
    "* [Jupyter Notebook: An Introduction](https://realpython.com/jupyter-notebook-introduction/)\n"
   ]
  },
  {
   "cell_type": "markdown",
   "id": "48e43186",
   "metadata": {},
   "source": [
    "In our next notebook we will look at some of the other tools we will use on top of Python (e.g. numpy, scikit learn, pytorch, etc.).\n",
    "\n",
    "If you would like to dig deeper into anything covered above, all of the references cited are below as well some excellent (and entertaining) videos from [socratica.com]() that cover everything above.\n",
    "\n",
    "### References\n",
    "\n",
    "__Beginner Python References__\n",
    "* [Learnpython.org Tutorials](https://www.learnpython.org)\n",
    "  - [Hello World](https://www.learnpython.org/en/Hello%2C_World%21)\n",
    "  - [Variables and Types](https://www.learnpython.org/en/Variables_and_Types)\n",
    "  - [Lists](https://www.learnpython.org/en/Lists)\n",
    "  - [Dictionaries](https://www.learnpython.org/en/Dictionaries)  \n",
    "  - [Basic Operators](https://www.learnpython.org/en/Basic_Operators)\n",
    "  - [String Formattting](https://www.learnpython.org/en/String_Formatting)\n",
    "  - [String Operations](https://www.learnpython.org/en/Basic_String_Operations)\n",
    "  - [Conditionals](https://www.learnpython.org/en/Conditions)\n",
    "  - [Loops](https://www.learnpython.org/en/Loops)\n",
    "  - [Functions](https://www.learnpython.org/en/Functions)\n",
    "  - [Classes and Objects](https://www.learnpython.org/en/Classes_and_Objects)\n",
    "  - [Modules and Packages](https://www.learnpython.org/en/Modules_and_Packages)\n",
    "* Socratica Python Videos: \n",
    "  - [Hello World](https://www.socratica.com/lesson/hello-world)\n",
    "  - [Strings](https://www.socratica.com/lesson/strings)\n",
    "  - [Numbers](https://www.socratica.com/lesson/numbers-in-v3)\n",
    "  - [Booleans](https://www.socratica.com/lesson/booleans)\n",
    "  - [Arithmetic](https://www.socratica.com/lesson/arithmetic-in-v3)\n",
    "  - [Conditionals](https://www.socratica.com/lesson/if-then-else)\n",
    "  - [Functions](https://www.socratica.com/lesson/functions)\n",
    "  - [Lists](https://www.socratica.com/lesson/lists)\n",
    "  - [Dictionaries](https://www.socratica.com/lesson/dictionaries)\n",
    "  - [Tuples](https://www.socratica.com/lesson/tuples)\n",
    "  - [Classes and Objects](https://www.socratica.com/lesson/classes-and-objects)\n",
    "\n",
    "__More Specific/In-depth Python Resources__\n",
    "* [Foundations of Python (runestone)](https://runestone.academy/runestone/books/published/fopp/index.html)\n",
    "* [Defining main functions in Python (realpython.com)](https://realpython.com/python-main-function/)\n",
    "* [Python Modules (on python.org)](https://docs.python.org/3/tutorial/modules.html)\n",
    "* [Jupyter Notebook: An Introduction](https://realpython.com/jupyter-notebook-introduction/)\n",
    "\n",
    "__Other Links/References__\n",
    "\n",
    "* [Anaconda Download](https://www.anaconda.com/products/individual)\n",
    "* [Allen Institute's text generator demo](https://demo.allennlp.org/next-token-lm)\n",
    "* [Deep AI's text generator demo](https://deepai.org/machine-learning-model/text-generator)\n",
    "* [GenSim](https://radimrehurek.com/gensim/intro.html)\n",
    "* [Gradient](https://gradient.paperspace.com)\n",
    "* [Google Colab](https://colab.research.google.com)\n",
    "* [Kaggle](https://www.kaggle.com)\n",
    "* [Hugging Face](https://huggingface.co)\n",
    "* [WebVectors Semantic Calculator demo](http://vectors.nlpl.eu/explore/embeddings/en/calculator/)"
   ]
  }
 ],
 "metadata": {
  "interpreter": {
   "hash": "82f7237e8744fa450af06f16fd99e4f987c4ded027c30bb82e91e6fd7991cebc"
  },
  "kernelspec": {
   "display_name": "Python 3",
   "language": "python",
   "name": "python3"
  },
  "language_info": {
   "codemirror_mode": {
    "name": "ipython",
    "version": 3
   },
   "file_extension": ".py",
   "mimetype": "text/x-python",
   "name": "python",
   "nbconvert_exporter": "python",
   "pygments_lexer": "ipython3",
   "version": "3.8.10"
  }
 },
 "nbformat": 4,
 "nbformat_minor": 5
}
